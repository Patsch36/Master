{
  "nbformat": 4,
  "nbformat_minor": 0,
  "metadata": {
    "colab": {
      "provenance": []
    },
    "kernelspec": {
      "name": "python3",
      "display_name": "Python 3"
    },
    "language_info": {
      "name": "python"
    }
  },
  "cells": [
    {
      "cell_type": "code",
      "source": [
        "! pip install scipy\n",
        "! pip install numpy"
      ],
      "metadata": {
        "colab": {
          "base_uri": "https://localhost:8080/"
        },
        "id": "RXRs5icjg2Tr",
        "outputId": "3565e23d-0a25-4323-fdea-4112e573c7a3"
      },
      "execution_count": null,
      "outputs": [
        {
          "output_type": "stream",
          "name": "stdout",
          "text": [
            "Requirement already satisfied: scipy in /usr/local/lib/python3.10/dist-packages (1.11.4)\n",
            "Requirement already satisfied: numpy<1.28.0,>=1.21.6 in /usr/local/lib/python3.10/dist-packages (from scipy) (1.25.2)\n"
          ]
        }
      ]
    },
    {
      "cell_type": "code",
      "execution_count": null,
      "metadata": {
        "id": "ci9vGQDHgYqf"
      },
      "outputs": [],
      "source": [
        "from scipy.stats import binom\n",
        "from math import factorial, pow"
      ]
    },
    {
      "cell_type": "markdown",
      "source": [],
      "metadata": {
        "id": "ip-5BRr_iXQ6"
      }
    },
    {
      "cell_type": "code",
      "source": [
        "def summing(amount):\n",
        "    p = 1/6\n",
        "    n = amount\n",
        "    dist = binom(n, p)\n",
        "    return dist.pmf(range(n+1))\n",
        "\n",
        "def get_binomialkoeff(n, k):\n",
        "  k1 = factorial(n)\n",
        "  k2 = factorial(k)\n",
        "  k3 = factorial(n-k)\n",
        "\n",
        "  return k1/(k2 * k3)\n",
        "\n",
        "\n",
        "def manual_summing(amount_head):\n",
        "  erg = 0\n",
        "  start = 1 if amount_head < 1 else amount_head\n",
        "  for i in range(start, 7):\n",
        "    p = get_binomialkoeff(i, amount_head) * pow(0.5, amount_head) * pow(0.5, (i - amount_head))\n",
        "    #print(f'Für {i} gewürfelt ist die Menge der Events für {amount_head} mal Kopf {get_binomialkoeff(i, amount_head)}')\n",
        "    #print(f'Wahrscheinlichkeit bei {i} Würfen {amount_head} Köpfe zu kriegen ist {p}')\n",
        "    erg += p*1/6\n",
        "  return erg\n",
        "\n",
        "probs = []\n",
        "for i in range(7):\n",
        "  probs.append(manual_summing(i))\n",
        "\n",
        "for y, prob in enumerate(probs):\n",
        "    print(f'Anzahl Köpfe: {y}, Wahrscheinlichkeit: {prob}')\n",
        "\n",
        "print(sum(probs))\n",
        "\n",
        "# print(summing(6))\n",
        "# print(sum(summing(6)))"
      ],
      "metadata": {
        "colab": {
          "base_uri": "https://localhost:8080/"
        },
        "id": "o2Dfu2V8pkX2",
        "outputId": "f8591b3f-ab4a-4fa6-a436-34d7b77d2bc6"
      },
      "execution_count": null,
      "outputs": [
        {
          "output_type": "stream",
          "name": "stdout",
          "text": [
            "Anzahl Köpfe: 0, Wahrscheinlichkeit: 0.1640625\n",
            "Anzahl Köpfe: 1, Wahrscheinlichkeit: 0.3125\n",
            "Anzahl Köpfe: 2, Wahrscheinlichkeit: 0.2578125\n",
            "Anzahl Köpfe: 3, Wahrscheinlichkeit: 0.16666666666666669\n",
            "Anzahl Köpfe: 4, Wahrscheinlichkeit: 0.07552083333333334\n",
            "Anzahl Köpfe: 5, Wahrscheinlichkeit: 0.020833333333333332\n",
            "Anzahl Köpfe: 6, Wahrscheinlichkeit: 0.0026041666666666665\n",
            "1.0000000000000002\n"
          ]
        }
      ]
    },
    {
      "cell_type": "code",
      "source": [
        "\n",
        "import matplotlib.pyplot as plt\n",
        "\n",
        "plt.bar(range(len(probs)), probs)\n",
        "plt.xlabel('Number of Heads')\n",
        "plt.ylabel('Probability')\n",
        "plt.title('Probability Distribution of Number of Heads')\n",
        "plt.show()\n"
      ],
      "metadata": {
        "colab": {
          "base_uri": "https://localhost:8080/",
          "height": 472
        },
        "id": "fmWThxH_ribN",
        "outputId": "d5835976-1bc8-46f1-ecea-6b636a1f17fc"
      },
      "execution_count": null,
      "outputs": [
        {
          "output_type": "display_data",
          "data": {
            "text/plain": [
              "<Figure size 640x480 with 1 Axes>"
            ],
            "image/png": "[encoded data removed]"
          },
          "metadata": {}
        }
      ]
    }
  ]
}