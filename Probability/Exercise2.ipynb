{
 "cells": [
  {
   "cell_type": "code",
   "execution_count": 12,
   "metadata": {},
   "outputs": [],
   "source": [
    "def calculate_probabilities(prior_prob_sick, sensitivity, specificity):\n",
    "    prior_prob_healthy = 1 - prior_prob_sick\n",
    "    \n",
    "    # Berechnung der Wahrscheinlichkeiten, dass der Test positiv oder negativ ist\n",
    "    prob_positive = (1 - specificity) * prior_prob_healthy + sensitivity * prior_prob_sick\n",
    "    prob_negative = specificity * prior_prob_healthy + (1 - sensitivity) * prior_prob_sick\n",
    "    \n",
    "    # Berechnung der Wahrscheinlichkeit, dass eine positiv getestete Person gesund ist\n",
    "    prob_healthy_given_positive = prob_positive * prior_prob_healthy\n",
    "    # Berechnung der Wahrscheinlichkeit, dass eine negativ getestete Person krank ist\n",
    "    prob_sick_given_negative = prob_negative * prior_prob_sick\n",
    "    \n",
    "    return prob_healthy_given_positive, prob_sick_given_negative\n",
    "\n",
    "sensitivity = 0.9\n",
    "specificity = 0.95"
   ]
  },
  {
   "cell_type": "code",
   "execution_count": 13,
   "metadata": {},
   "outputs": [
    {
     "name": "stdout",
     "output_type": "stream",
     "text": [
      "Wahrscheinlichkeit, dass eine positiv getestete Person gesund ist: 0.07323500000000004\n",
      "Wahrscheinlichkeit, dass eine negativ getestete Person krank ist: 0.027735\n"
     ]
    }
   ],
   "source": [
    "# Gegebene Daten\n",
    "prior_prob_sick = 0.03\n",
    "\n",
    "# Berechnung der Wahrscheinlichkeiten\n",
    "prob_healthy_given_positive, prob_sick_given_negative = calculate_probabilities(prior_prob_sick, sensitivity, specificity)\n",
    "\n",
    "print(\"Wahrscheinlichkeit, dass eine positiv getestete Person gesund ist:\", prob_healthy_given_positive)\n",
    "print(\"Wahrscheinlichkeit, dass eine negativ getestete Person krank ist:\", prob_sick_given_negative)"
   ]
  },
  {
   "cell_type": "code",
   "execution_count": 14,
   "metadata": {},
   "outputs": [
    {
     "name": "stdout",
     "output_type": "stream",
     "text": [
      "Wahrscheinlichkeit, dass eine positiv getestete Person gesund ist: 0.21350000000000002\n",
      "Wahrscheinlichkeit, dass eine negativ getestete Person krank ist: 0.2085\n"
     ]
    }
   ],
   "source": [
    "# Gegebene Daten\n",
    "prior_prob_sick = 0.3\n",
    "\n",
    "# Berechnung der Wahrscheinlichkeiten\n",
    "prob_healthy_given_positive, prob_sick_given_negative = calculate_probabilities(prior_prob_sick, sensitivity, specificity)\n",
    "\n",
    "print(\"Wahrscheinlichkeit, dass eine positiv getestete Person gesund ist:\", prob_healthy_given_positive)\n",
    "print(\"Wahrscheinlichkeit, dass eine negativ getestete Person krank ist:\", prob_sick_given_negative)"
   ]
  }
 ],
 "metadata": {
  "kernelspec": {
   "display_name": "cvenv310",
   "language": "python",
   "name": "python3"
  },
  "language_info": {
   "codemirror_mode": {
    "name": "ipython",
    "version": 3
   },
   "file_extension": ".py",
   "mimetype": "text/x-python",
   "name": "python",
   "nbconvert_exporter": "python",
   "pygments_lexer": "ipython3",
   "version": "3.10.13"
  }
 },
 "nbformat": 4,
 "nbformat_minor": 2
}
